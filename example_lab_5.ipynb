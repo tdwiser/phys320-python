{
 "cells": [
  {
   "cell_type": "markdown",
   "metadata": {},
   "source": [
    "# Example Code for Lab 5 (LRC Circuits)\n",
    "\n",
    "- Capture & save oscilloscope waveform\n",
    "- Repeated measurement data collection and plotting\n",
    "\n",
    "**Make your own working copy - this file may change with future updates!**"
   ]
  },
  {
   "cell_type": "code",
   "execution_count": 6,
   "metadata": {},
   "outputs": [],
   "source": [
    "# Standard imports\n",
    "import numpy as np # NUMerical PYthon - fast number crunching\n",
    "import pandas as pd # Organize data into tables called DataFrames\n",
    "import matplotlib.pyplot as plt # Plotting tools\n",
    "from phys320 import scope # Oscilloscope interface - specific for our scopes\n",
    "from phys320.scope import MT, Measurement # Pull these in to save typing scope.MT, scope.Measurement every time"
   ]
  },
  {
   "cell_type": "code",
   "execution_count": null,
   "metadata": {},
   "outputs": [],
   "source": [
    "# Must be run before using the other scope functions. Searches your computer's USB interface for the scope\n",
    "# May take several seconds to run\n",
    "scope.init()"
   ]
  },
  {
   "cell_type": "code",
   "execution_count": null,
   "metadata": {},
   "outputs": [],
   "source": [
    "# One-liner to get oscilloscope curve into a plot\n",
    "fig1 = scope.peek()\n",
    "fig2 = scope.peek(2)"
   ]
  },
  {
   "cell_type": "code",
   "execution_count": null,
   "metadata": {},
   "outputs": [],
   "source": [
    "# save a figure to a file\n",
    "fig1.savefig('example_ch1_trace.pdf') # for including in tex files, papers, printing, etc\n",
    "fig1.savefig('example_ch1_trace.png') # for including in jupyter notebooks, web posts, etc"
   ]
  },
  {
   "cell_type": "code",
   "execution_count": null,
   "metadata": {},
   "outputs": [],
   "source": [
    "# Capture raw scope data into a DataFrame\n",
    "df = scope.curve(1, 2)\n",
    "df"
   ]
  },
  {
   "cell_type": "code",
   "execution_count": 16,
   "metadata": {},
   "outputs": [],
   "source": [
    "# save a dataframe to a file\n",
    "df.to_csv(\"example_curve_data.csv\")"
   ]
  },
  {
   "cell_type": "code",
   "execution_count": null,
   "metadata": {},
   "outputs": [],
   "source": [
    "fig, ax = plt.subplots() # generate a blank figure and axes\n",
    "ax.plot('t', 'CH1', data=df) # plotting dataframes is easy, you can do it by column name like this\n",
    "ax.plot('t', 'CH2', data=df)"
   ]
  },
  {
   "cell_type": "code",
   "execution_count": 8,
   "metadata": {},
   "outputs": [],
   "source": [
    "# Specify what data columns to collect like so:\n",
    "meas = [Measurement(MT.FREQUENCY, scope.CH2), # CH2 Frequency\n",
    "        Measurement(MT.AMPLITUDE, scope.CH1), # CH1 Amplitude\n",
    "        Measurement(MT.AMPLITUDE, scope.CH2), # etc.\n",
    "        Measurement(MT.PHASE, scope.CH1, scope.CH2)] # Phase really only works between CH1 and CH2"
   ]
  },
  {
   "cell_type": "code",
   "execution_count": null,
   "metadata": {},
   "outputs": [],
   "source": [
    "print(meas[0].value()) # find current value of CH2 Frequency\n",
    "print([m.value() for m in meas]) # find all values"
   ]
  },
  {
   "cell_type": "code",
   "execution_count": 4,
   "metadata": {},
   "outputs": [],
   "source": [
    "# Helper functions to repeatedly collect data points\n",
    "data = scope.repeat_measurements(meas)"
   ]
  },
  {
   "cell_type": "code",
   "execution_count": null,
   "metadata": {},
   "outputs": [],
   "source": [
    "# Append to data if necessary:\n",
    "data = scope.repeat_measurements(meas, append_to=data)"
   ]
  },
  {
   "cell_type": "code",
   "execution_count": null,
   "metadata": {},
   "outputs": [],
   "source": [
    "# Collect data into a DataFrame\n",
    "df2 = pd.DataFrame(data, columns=[str(m) for m in meas])\n",
    "df2"
   ]
  },
  {
   "cell_type": "code",
   "execution_count": 13,
   "metadata": {},
   "outputs": [],
   "source": [
    "data = [[1,2,3,4]]"
   ]
  },
  {
   "cell_type": "code",
   "execution_count": null,
   "metadata": {},
   "outputs": [],
   "source": [
    "# Generate a Bode plot (dB gain and phase shift vs log frequency)\n",
    "fig, ax = plt.subplots()\n",
    "ax.scatter(np.log10(df2['FREQUENCY_CH2']), 20*np.log10(df2['AMPLITUDE_CH1']/df2['AMPLITUDE_CH2']))\n",
    "ax2 = ax.twinx() # add a second y-axis with shared (twin) x axis\n",
    "ax2.scatter(np.log10(df2['FREQUENCY_CH2']), df2['PHASE_CH1_CH2'])"
   ]
  },
  {
   "cell_type": "code",
   "execution_count": 17,
   "metadata": {},
   "outputs": [],
   "source": [
    "fig.savefig(\"bode_plot.pdf\")\n",
    "fig.savefig(\"bode_plot.png\")"
   ]
  },
  {
   "cell_type": "markdown",
   "metadata": {},
   "source": [
    "You can include a saved image in your notebook like so: (edit this cell to see the Markdown code)\n",
    "\n",
    "![bode plot](bode_plot.png)"
   ]
  }
 ],
 "metadata": {
  "kernelspec": {
   "display_name": "scope",
   "language": "python",
   "name": "python3"
  },
  "language_info": {
   "codemirror_mode": {
    "name": "ipython",
    "version": 3
   },
   "file_extension": ".py",
   "mimetype": "text/x-python",
   "name": "python",
   "nbconvert_exporter": "python",
   "pygments_lexer": "ipython3",
   "version": "3.12.3"
  }
 },
 "nbformat": 4,
 "nbformat_minor": 2
}
